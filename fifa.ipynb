{
 "cells": [
  {
   "cell_type": "code",
   "execution_count": 12,
   "metadata": {},
   "outputs": [],
   "source": [
    "# Get Snowpark components\n",
    "import os\n",
    "from snowflake.snowpark import Session"
   ]
  },
  {
   "cell_type": "code",
   "execution_count": 13,
   "metadata": {},
   "outputs": [],
   "source": [
    "# Create connection string\n",
    "connection_parameters = {\n",
    "\"account\":  '' ,\n",
    " \"user\":  '' ,\n",
    " \"password\":  '' ,\n",
    " \"role\":  '' ,\n",
    " \"warehouse\":  '' ,\n",
    " \"database\":  'COALESCE_DEV' ,\n",
    " \"schema\": 'FIFA_PREDICTION'\n",
    "}\n",
    "\n",
    "session = Session.builder.configs(connection_parameters).create()"
   ]
  },
  {
   "cell_type": "code",
   "execution_count": 14,
   "metadata": {},
   "outputs": [
    {
     "name": "stdout",
     "output_type": "stream",
     "text": [
      "Requirement already satisfied: scipy in c:\\users\\mika.heino_recordlyd\\anaconda3\\envs\\fifa2022\\lib\\site-packages (1.9.1)\n",
      "Requirement already satisfied: numpy in c:\\users\\mika.heino_recordlyd\\anaconda3\\envs\\fifa2022\\lib\\site-packages (1.23.4)\n",
      "Requirement already satisfied: seaborn in c:\\users\\mika.heino_recordlyd\\anaconda3\\envs\\fifa2022\\lib\\site-packages (0.12.0)\n",
      "Requirement already satisfied: pandas in c:\\users\\mika.heino_recordlyd\\anaconda3\\envs\\fifa2022\\lib\\site-packages (1.3.5)\n",
      "Requirement already satisfied: statsmodels in c:\\users\\mika.heino_recordlyd\\anaconda3\\envs\\fifa2022\\lib\\site-packages (0.13.2)\n",
      "Requirement already satisfied: matplotlib>=3.1 in c:\\users\\mika.heino_recordlyd\\anaconda3\\envs\\fifa2022\\lib\\site-packages (from seaborn) (3.6.0)\n",
      "Requirement already satisfied: python-dateutil>=2.7.3 in c:\\users\\mika.heino_recordlyd\\anaconda3\\envs\\fifa2022\\lib\\site-packages (from pandas) (2.8.2)\n",
      "Requirement already satisfied: pytz>=2017.3 in c:\\users\\mika.heino_recordlyd\\anaconda3\\envs\\fifa2022\\lib\\site-packages (from pandas) (2022.1)\n",
      "Requirement already satisfied: patsy>=0.5.2 in c:\\users\\mika.heino_recordlyd\\anaconda3\\envs\\fifa2022\\lib\\site-packages (from statsmodels) (0.5.2)\n",
      "Requirement already satisfied: packaging>=21.3 in c:\\users\\mika.heino_recordlyd\\anaconda3\\envs\\fifa2022\\lib\\site-packages (from statsmodels) (21.3)\n",
      "Requirement already satisfied: pyparsing>=2.2.1 in c:\\users\\mika.heino_recordlyd\\anaconda3\\envs\\fifa2022\\lib\\site-packages (from matplotlib>=3.1->seaborn) (3.0.9)\n",
      "Requirement already satisfied: cycler>=0.10 in c:\\users\\mika.heino_recordlyd\\anaconda3\\envs\\fifa2022\\lib\\site-packages (from matplotlib>=3.1->seaborn) (0.11.0)\n",
      "Requirement already satisfied: kiwisolver>=1.0.1 in c:\\users\\mika.heino_recordlyd\\anaconda3\\envs\\fifa2022\\lib\\site-packages (from matplotlib>=3.1->seaborn) (1.4.4)\n",
      "Requirement already satisfied: contourpy>=1.0.1 in c:\\users\\mika.heino_recordlyd\\anaconda3\\envs\\fifa2022\\lib\\site-packages (from matplotlib>=3.1->seaborn) (1.0.5)\n",
      "Requirement already satisfied: fonttools>=4.22.0 in c:\\users\\mika.heino_recordlyd\\anaconda3\\envs\\fifa2022\\lib\\site-packages (from matplotlib>=3.1->seaborn) (4.37.3)\n",
      "Requirement already satisfied: pillow>=6.2.0 in c:\\users\\mika.heino_recordlyd\\anaconda3\\envs\\fifa2022\\lib\\site-packages (from matplotlib>=3.1->seaborn) (9.2.0)\n",
      "Requirement already satisfied: six in c:\\users\\mika.heino_recordlyd\\anaconda3\\envs\\fifa2022\\lib\\site-packages (from patsy>=0.5.2->statsmodels) (1.16.0)\n"
     ]
    }
   ],
   "source": [
    "# Install needed packages\n",
    "# Be sure check that packages also exist in Acaconda repo for Snowflake\n",
    "!pip install scipy numpy seaborn pandas statsmodels "
   ]
  },
  {
   "cell_type": "code",
   "execution_count": 15,
   "metadata": {},
   "outputs": [],
   "source": [
    "import pandas as pd\n",
    "import numpy as np\n",
    "import seaborn\n",
    "import statsmodels.api as sm\n",
    "import statsmodels.formula.api as smf\n",
    "from scipy.stats import poisson\n",
    "from snowflake.snowpark.functions import udf"
   ]
  },
  {
   "cell_type": "code",
   "execution_count": 16,
   "metadata": {},
   "outputs": [],
   "source": [
    "# Let's fetch training data that we have in Snowflake about FIFA games\n",
    "# Data is limited to games played after 2000 for validity reasons and also because this limits the size of the model\n",
    "df = session.sql(\"SELECT * FROM RESULTS WHERE TO_DATE(DATE, 'YYYY-MM-DD') > TO_DATE('2000-01-01', 'YYYY-MM-DD')\").to_pandas()"
   ]
  },
  {
   "cell_type": "code",
   "execution_count": 17,
   "metadata": {},
   "outputs": [],
   "source": [
    "# It seems that score values are casted as strings, let's cast them to floats\n",
    "df = df[['HOME_TEAM','AWAY_TEAM','HOME_SCORE','AWAY_SCORE']]\n",
    "df['HOME_SCORE'] = df['HOME_SCORE'].astype(float)\n",
    "df['AWAY_SCORE'] = df['AWAY_SCORE'].astype(float)"
   ]
  },
  {
   "cell_type": "code",
   "execution_count": 18,
   "metadata": {},
   "outputs": [],
   "source": [
    "# Lets build the model using Poisson model\n",
    "goal_model_data = pd.concat([df[['HOME_TEAM','AWAY_TEAM','HOME_SCORE']].assign(home=1).rename(\n",
    "            columns={'HOME_TEAM':'team', 'AWAY_TEAM':'opponent','HOME_SCORE':'goals'}),\n",
    "           df[['AWAY_TEAM','HOME_TEAM','AWAY_SCORE']].assign(home=0).rename(\n",
    "            columns={'AWAY_TEAM':'team', 'HOME_TEAM':'opponent','AWAY_SCORE':'goals'})])\n",
    "\n",
    "model = smf.glm(formula=\"goals ~ home + team + opponent\", data=goal_model_data, \n",
    "                        family=sm.families.Poisson()).fit()"
   ]
  },
  {
   "cell_type": "code",
   "execution_count": 19,
   "metadata": {},
   "outputs": [
    {
     "data": {
      "text/plain": [
       "[Row(status='Stage area MODELSTAGE successfully created.')]"
      ]
     },
     "execution_count": 19,
     "metadata": {},
     "output_type": "execute_result"
    }
   ],
   "source": [
    "# Lets import the model to Snowflake stage\n",
    "session.sql('create or replace stage MODELSTAGE').collect() #Create a model stage if it does not already exist. "
   ]
  },
  {
   "cell_type": "code",
   "execution_count": 20,
   "metadata": {},
   "outputs": [],
   "source": [
    "# Let's build the Snowflake Python UDF using Snowpark @udf command\n",
    "# Necessary packages are imported in the same command\n",
    "# This is part is needed only once\n",
    "\n",
    "@udf(name='predict_result',is_permanent = True, stage_location = '@MODELSTAGE', replace=True, session=session, packages=[\"numpy\", \"pandas\", \"scipy\", \"statsmodels\"])\n",
    "def simulate_match(homeTeam: str, awayTeam: str) -> float:\n",
    "    home_goals_avg = model.predict(pd.DataFrame(data={'team': homeTeam, \n",
    "                                                            'opponent': awayTeam,'home':1},\n",
    "                                                      index=[1])).values[0]\n",
    "    away_goals_avg = model.predict(pd.DataFrame(data={'team': awayTeam, \n",
    "                                                            'opponent': homeTeam,'home':0},\n",
    "                                                      index=[1])).values[0]\n",
    "    team_pred = [[poisson.pmf(i, team_avg) for i in range(0, 10)] for team_avg in [home_goals_avg, away_goals_avg]]\n",
    "    home_win=(np.outer(np.array(team_pred[0]), np.array(team_pred[1])))\n",
    "    result = np.sum(np.tril(home_win, -1))\n",
    "    return result\n"
   ]
  }
 ],
 "metadata": {
  "kernelspec": {
   "display_name": "Python 3.8.13 ('fifa2022')",
   "language": "python",
   "name": "python3"
  },
  "language_info": {
   "codemirror_mode": {
    "name": "ipython",
    "version": 3
   },
   "file_extension": ".py",
   "mimetype": "text/x-python",
   "name": "python",
   "nbconvert_exporter": "python",
   "pygments_lexer": "ipython3",
   "version": "3.8.13"
  },
  "orig_nbformat": 4,
  "vscode": {
   "interpreter": {
    "hash": "24046a22b2187e6d2182c9959f9c063a370d3da80034556d36e49a91dacb35a8"
   }
  }
 },
 "nbformat": 4,
 "nbformat_minor": 2
}
